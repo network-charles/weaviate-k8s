{
 "cells": [
  {
   "cell_type": "code",
   "execution_count": 4,
   "id": "a032dd42-b373-4e0f-9a89-13d840e9cf3f",
   "metadata": {},
   "outputs": [
    {
     "name": "stdout",
     "output_type": "stream",
     "text": [
      "Collections created\n"
     ]
    }
   ],
   "source": [
    "# Create collection\n",
    "import weaviate\n",
    "import weaviate.classes as k8s\n",
    "import os\n",
    "import requests\n",
    "import json\n",
    "\n",
    "headers = {\n",
    "    \"X-OpenAI-Api-Key\": os.getenv(\"OPENAI_APIKEY\")\n",
    "}\n",
    "\n",
    "api_key = \"minikube-secret-key\"\n",
    "\n",
    "client = weaviate.connect_to_local(\n",
    "    host=\"127.0.0.1\",\n",
    "    port=8080,\n",
    "    grpc_port=50051,\n",
    "    headers=headers,\n",
    "    auth_credentials=k8s.init.Auth.api_key(api_key)\n",
    ")\n",
    "\n",
    "try:\n",
    "    client.collections.delete(name=\"Question\") # clean slate\n",
    "    \n",
    "    questions = client.collections.create(\n",
    "        name=\"Question\",\n",
    "        vectorizer_config=k8s.config.Configure.Vectorizer.text2vec_openai(), # Set the vectorizer to \"text2vec-openai\" to use the OpenAI API for vector-related operations\n",
    "        generative_config=k8s.config.Configure.Generative.openai() # Set the generative module to \"generative-openai\" to use the OpenAI API for RAG\n",
    "        )\n",
    "        \n",
    "    resp = requests.get('https://raw.githubusercontent.com/weaviate-tutorials/quickstart/main/data/jeopardy_tiny.json')\n",
    "    data = json.loads(resp.text)  # Load data\n",
    "\n",
    "    question_objs = list()\n",
    "    for i, d in enumerate(data):\n",
    "        question_objs.append({\n",
    "            \"answer\": d[\"Answer\"],\n",
    "            \"question\": d[\"Question\"],\n",
    "            \"category\": d[\"Category\"],\n",
    "        })\n",
    "    \n",
    "    questions = client.collections.get(\"Question\") # grab collection\n",
    "    questions.data.insert_many(question_objs) # insert data into the collection\n",
    "    \n",
    "    print(\"Collections created\")\n",
    "\n",
    "finally:\n",
    "    client.close()\n"
   ]
  },
  {
   "cell_type": "code",
   "execution_count": 6,
   "id": "4db1f46d-2926-45db-add2-fb2237766b1a",
   "metadata": {},
   "outputs": [
    {
     "name": "stdout",
     "output_type": "stream",
     "text": [
      "{'answer': 'DNA', 'question': 'In 1953 Watson & Crick built a model of the molecular structure of this, the gene-carrying substance', 'category': 'SCIENCE'}\n"
     ]
    }
   ],
   "source": [
    "# Perform a semantic search query\n",
    "try:\n",
    "    client.connect()\n",
    "    questions = client.collections.get(\"Question\") # grab collection\n",
    "\n",
    "    response = questions.query.near_text( # query collection\n",
    "        query=\"biology\",\n",
    "        limit=2\n",
    "    )\n",
    "\n",
    "    print(response.objects[0].properties)  # Inspect the first object\n",
    "\n",
    "finally:\n",
    "    client.close()\n"
   ]
  },
  {
   "cell_type": "code",
   "execution_count": null,
   "id": "52c05b43-4b7b-4996-a0b0-b10d8c35c1f5",
   "metadata": {},
   "outputs": [],
   "source": [
    "# Perform a semantic search filter query\n",
    "try:\n",
    "    client.connect()\n",
    "    questions = client.collections.get(\"Question\") # grab collection\n",
    "\n",
    "    response = questions.query.near_text( # query collection\n",
    "        query=\"biology\",\n",
    "        limit=2,\n",
    "        filters=k8s.query.Filter.by_property(\"category\").equal(\"ANIMALS\")\n",
    "    )\n",
    "\n",
    "    print(response.objects[0].properties)  # Inspect the first object\n",
    "\n",
    "finally:\n",
    "    client.close()\n"
   ]
  }
 ],
 "metadata": {
  "kernelspec": {
   "display_name": "Python 3 (ipykernel)",
   "language": "python",
   "name": "python3"
  },
  "language_info": {
   "codemirror_mode": {
    "name": "ipython",
    "version": 3
   },
   "file_extension": ".py",
   "mimetype": "text/x-python",
   "name": "python",
   "nbconvert_exporter": "python",
   "pygments_lexer": "ipython3",
   "version": "3.9.16"
  }
 },
 "nbformat": 4,
 "nbformat_minor": 5
}
