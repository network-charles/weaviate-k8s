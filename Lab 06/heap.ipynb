{
 "cells": [
  {
   "cell_type": "code",
   "execution_count": 1,
   "id": "2280b0f8-6f18-4631-a2ea-a77400e3724b",
   "metadata": {},
   "outputs": [
    {
     "name": "stderr",
     "output_type": "stream",
     "text": [
      "/home/ec2-user/.local/lib/python3.9/site-packages/google/protobuf/runtime_version.py:112: UserWarning: Protobuf gencode version 5.27.2 is older than the runtime version 5.28.1 at grpc_health/v1/health.proto. Please avoid checked-in Protobuf gencode that can be obsolete.\n",
      "  warnings.warn(\n"
     ]
    },
    {
     "name": "stdout",
     "output_type": "stream",
     "text": [
      "collection created\n",
      "objects created\n"
     ]
    }
   ],
   "source": [
    "import weaviate\n",
    "import weaviate.classes as k8s\n",
    "import os\n",
    "import numpy as np\n",
    "\n",
    "headers = {\n",
    "    \"X-OpenAI-Api-Key\": os.getenv(\"OPENAI_APIKEY\")\n",
    "}\n",
    "\n",
    "client = weaviate.connect_to_local(\n",
    "    host=\"localhost\",\n",
    "    port=8080,\n",
    "    grpc_port=50051,\n",
    "    headers=headers\n",
    ")\n",
    "\n",
    "client.collections.delete(name=\"Question\") # clean slate\n",
    "\n",
    "questions = client.collections.create(\n",
    "        name=\"Question\",\n",
    "        vectorizer_config=k8s.config.Configure.Vectorizer.text2vec_openai(), # Set the vectorizer to \"text2vec-openai\" to use the OpenAI API for vector-related operations\n",
    "        generative_config=k8s.config.Configure.Generative.openai() # Set the generative module to \"generative-openai\" to use the OpenAI API for RAG\n",
    "        )\n",
    "\n",
    "print('collection created')\n",
    "\n",
    "# Simulate heap usage by creating 1000 objects with random vectors\n",
    "with questions.batch.dynamic() as batch:\n",
    "    for i in range (1000):\n",
    "        batch.add_object(\n",
    "            properties={\"text\": f\"text for id {1}\", \"filter\": \"aaa\"}\n",
    "        )\n",
    "\n",
    "print('objects created')\n",
    "\n",
    "client.close()\n"
   ]
  }
 ],
 "metadata": {
  "kernelspec": {
   "display_name": "Python 3 (ipykernel)",
   "language": "python",
   "name": "python3"
  },
  "language_info": {
   "codemirror_mode": {
    "name": "ipython",
    "version": 3
   },
   "file_extension": ".py",
   "mimetype": "text/x-python",
   "name": "python",
   "nbconvert_exporter": "python",
   "pygments_lexer": "ipython3",
   "version": "3.9.16"
  }
 },
 "nbformat": 4,
 "nbformat_minor": 5
}
